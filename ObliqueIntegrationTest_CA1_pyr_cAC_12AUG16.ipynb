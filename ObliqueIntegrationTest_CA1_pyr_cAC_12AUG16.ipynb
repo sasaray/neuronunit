{
 "cells": [
  {
   "cell_type": "code",
   "execution_count": 1,
   "metadata": {
    "collapsed": true,
    "deletable": true,
    "editable": true
   },
   "outputs": [],
   "source": [
    "#pip install sciunit quantities efel scipy json2html neurom"
   ]
  },
  {
   "cell_type": "code",
   "execution_count": 2,
   "metadata": {
    "collapsed": false,
    "deletable": true,
    "editable": true
   },
   "outputs": [],
   "source": [
    "#% matplotlib notebook\n",
    "% matplotlib inline\n",
    "from json2html import *\n",
    "from quantities import mV, nA, ms, V, s\n",
    "import IPython\n",
    "import json\n",
    "import collections\n",
    "\n",
    "#import sciunit\n",
    "from hippounit import models\n",
    "from hippounit import tests\n",
    "#from hippounit import capabilities\n",
    "\n",
    "#import matplotlib.pyplot as plt\n",
    "\n",
    "from neuron import h\n",
    "import math"
   ]
  },
  {
   "cell_type": "code",
   "execution_count": 3,
   "metadata": {
    "collapsed": false,
    "deletable": true,
    "editable": true
   },
   "outputs": [
    {
     "data": {
      "text/html": [
       "<table border=\"1\"><tr><th>mean_threshold</th><td>3.4*mV</td></tr><tr><th>threshold_sem</th><td>0.2*mV</td></tr><tr><th>exp_n</th><td>92</td></tr><tr><th>mean_prox_threshold</th><td>4.5*mV</td></tr><tr><th>prox_threshold_sem</th><td>0.5*mV</td></tr><tr><th>prox_n</th><td>33</td></tr><tr><th>mean_dist_threshold</th><td>2.6*mV</td></tr><tr><th>dist_threshold_sem</th><td>0.2*mV</td></tr><tr><th>dist_n</th><td>44</td></tr><tr><th>mean_nonlin_at_th</th><td>142</td></tr><tr><th>nonlin_at_th_sem</th><td>9</td></tr><tr><th>mean_nonlin_suprath</th><td>129.0</td></tr><tr><th>nonlin_suprath_sem</th><td>6.0</td></tr><tr><th>mean_peak_deriv</th><td>2.6*V/s</td></tr><tr><th>peak_deriv_sem</th><td>0.4*V/s</td></tr><tr><th>mean_amp_at_th</th><td>4.828*mV</td></tr><tr><th>amp_at_th_sem</th><td>0.28*mV</td></tr><tr><th>mean_time_to_peak</th><td>13.5*ms</td></tr><tr><th>time_to_peak_sem</th><td>0.2*ms</td></tr><tr><th>mean_async_nonlin</th><td>104.0</td></tr><tr><th>async_nonlin_sem</th><td>8.0</td></tr><tr><th>async_n</th><td>23</td></tr></table>"
      ],
      "text/plain": [
       "<IPython.core.display.HTML object>"
      ]
     },
     "execution_count": 3,
     "metadata": {},
     "output_type": "execute_result"
    }
   ],
   "source": [
    "# Load target data\n",
    "#observation=json.load(open('oblique_target_data.json'))\n",
    "\n",
    "with open('oblique_target_data.json') as f:\n",
    "    observation = json.load(f, object_pairs_hook=collections.OrderedDict)\n",
    "\n",
    "IPython.display.HTML(json2html.convert(json = observation))"
   ]
  },
  {
   "cell_type": "code",
   "execution_count": 4,
   "metadata": {
    "collapsed": false,
    "deletable": true,
    "editable": true
   },
   "outputs": [],
   "source": [
    "#To make it possible to calculate with data including quantities\n",
    "for key, value in observation.iteritems():\n",
    "    observation[key] = eval(value)\n",
    "    "
   ]
  },
  {
   "cell_type": "code",
   "execution_count": null,
   "metadata": {
    "collapsed": false,
    "deletable": true,
    "editable": true,
    "scrolled": true
   },
   "outputs": [],
   "source": [
    "# Calculate experimental standard deviations and add to observation\n",
    "observation[\"threshold_std\"]=float(observation[\"threshold_sem\"]*math.sqrt(observation[\"exp_n\"]))*mV\n",
    "observation[\"prox_threshold_std\"]=float(observation[\"prox_threshold_sem\"]*math.sqrt(observation[\"prox_n\"]))*mV\n",
    "observation[\"dist_threshold_std\"]=float(observation[\"dist_threshold_sem\"]*math.sqrt(observation[\"dist_n\"]))*mV\n",
    "observation[\"nonlin_at_th_std\"]=float(observation[\"nonlin_at_th_sem\"]*math.sqrt(observation[\"exp_n\"]))\n",
    "observation[\"nonlin_suprath_std\"]=float(observation[\"nonlin_suprath_sem\"]*math.sqrt(observation[\"exp_n\"]))\n",
    "observation[\"peak_deriv_std\"]=float(observation[\"peak_deriv_sem\"]*math.sqrt(observation[\"exp_n\"]))*V /s\n",
    "observation[\"amp_at_th_std\"]=float(observation[\"amp_at_th_sem\"]*math.sqrt(observation[\"exp_n\"]))*mV\n",
    "observation[\"time_to_peak_std\"]=float(observation[\"time_to_peak_sem\"]*math.sqrt(observation[\"exp_n\"]))*ms\n",
    "observation[\"async_nonlin_std\"]=float(observation[\"async_nonlin_sem\"]*math.sqrt(observation[\"async_n\"]))\n"
   ]
  },
  {
   "cell_type": "code",
   "execution_count": null,
   "metadata": {
    "collapsed": false,
    "deletable": true,
    "editable": true,
    "scrolled": true
   },
   "outputs": [],
   "source": [
    "#Load and visualize cell model\n",
    "\n",
    "model = models.Model()\n",
    "\n",
    "# outputs will be saved in folders named like this:\n",
    "model.name=\"CA1_pyr_cAC_12AUG16\"\n",
    "\n",
    "# path to mod files\n",
    "model.modelpath = \"/home/osboxes/bsp_data_repository-master/optimizations/CA1_pyr_cAC_12AUG16/mechanisms/\"\n",
    "\n",
    "# if this doesn't exist mod files are automatically compiled\n",
    "model.libpath = \"x86_64/.libs/libnrnmech.so.0\"\n",
    "\n",
    "# path to hoc file\n",
    "# the model must not display any GUI!!\n",
    "model.hocpath = \"/home/osboxes/bsp_data_repository-master/optimizations/CA1_pyr_cAC_12AUG16/checkpoints/cell.hoc\"\n",
    "\n",
    "# If the hoc file doesn't contain a template, this must be None\n",
    "model.template_name = 'CCell()'\n",
    "\n",
    "# should be None, if there is no Section List in the model for the soma\n",
    "model.SomaSecList_name = 'somatic'\n",
    "\n",
    "# if the soma is not in a section list, add its name here:\n",
    "model.soma = None\n",
    "\n",
    "model.load_mod_files() #This automatically compiles mod files, if they are not yet compiled\n",
    "model.initialise() # Loads the model, creates stand alone cell from template. \n",
    "# uses the soma section list to set the location of somatic stimuli (and measurement)\n",
    "# If the given section list contains more elements, the last one is used\n",
    "\n",
    "'''\n",
    "from PyNeuronToolbox.morphology import shapeplot\n",
    "from mpl_toolkits.mplot3d import Axes3D\n",
    "# use this to visualize hoc morphology\n",
    "plt.figure(figsize=(7,7))\n",
    "shapeax = plt.subplot(111, projection='3d')\n",
    "shapeax.view_init(75,66)\n",
    "shapeplot(h,shapeax)\n",
    "plt.show()\n",
    "'''\n",
    "\n",
    "from neurom import load_neuron\n",
    "from neurom import viewer\n",
    "morph_path = \"/home/osboxes/bsp_data_repository-master/optimizations/CA1_pyr_cAC_12AUG16/morphology/dend-050921AM2_axon-051208AM2.asc\"\n",
    "viewer.draw(load_neuron(morph_path));\n"
   ]
  },
  {
   "cell_type": "code",
   "execution_count": null,
   "metadata": {
    "collapsed": false,
    "deletable": true,
    "editable": true
   },
   "outputs": [],
   "source": [
    "# The model tested must contain SectionLists containing the sections of the trunk and oblique dendrites\n",
    "model.ObliqueSecList_name = 'oblique_dendrites'\n",
    "model.TrunkSecList_name = 'trunk'\n",
    "\n",
    "# according to the experiment the distance of the obliques tested from the trunk sould be max. 120 microns\n",
    "# but the cell may not have enough obliques this close that meet all the other criteria: originate from the trunk, have no child, close to soma\n",
    "model.max_dist_from_soma = 120  \n",
    "\n",
    "# Automatically chooses the oblique dendrites and locations to be stimulated during the test based on the section lists\n",
    "model.find_good_obliques()"
   ]
  },
  {
   "cell_type": "code",
   "execution_count": null,
   "metadata": {
    "collapsed": false,
    "deletable": true,
    "editable": true
   },
   "outputs": [],
   "source": [
    "base_directory = '/home/osboxes/BBP_project/150904_neuronunit/neuronunit/'\n",
    "\n",
    "# Set the test\n",
    "#The vectors of the somatic and dendritic voltage values are saved in files during the simulation. \n",
    "#If force_run=False, and the files already exist, the test uses the saved files for further calculations \n",
    "#If force_run=True, or the files don't exist, the test runs the whole simulation.\n",
    "show_plot=True\n",
    "test = tests.ObliqueIntegrationTest(observation, force_run_synapse=False, force_run_bin_search=False, base_directory=base_directory, show_plot=show_plot)\n",
    "\n",
    "\n",
    "# Set the number of processes running parallel\n",
    "import multiprocessing\n",
    "test.npool = multiprocessing.cpu_count() - 1"
   ]
  },
  {
   "cell_type": "code",
   "execution_count": null,
   "metadata": {
    "collapsed": false,
    "deletable": true,
    "editable": true,
    "scrolled": true
   },
   "outputs": [],
   "source": [
    "# Run the test\n",
    "# Call SciUnit's judge function. \n",
    "#This calls the generate_prediction function of the test to generate prediction (data of model behaviour)\n",
    "#Also calls the compute_score function of the test to calculate the error\n",
    "score = test.judge(model)"
   ]
  },
  {
   "cell_type": "code",
   "execution_count": null,
   "metadata": {
    "collapsed": false,
    "deletable": true,
    "editable": true
   },
   "outputs": [],
   "source": [
    "# Visualize model feature values in a table\n",
    "for key, value in score.prediction.iteritems():\n",
    "\t\tscore.prediction[key] = str(value)\n",
    "               \n",
    "IPython.display.HTML(json2html.convert(json = score.prediction))"
   ]
  },
  {
   "cell_type": "code",
   "execution_count": null,
   "metadata": {
    "collapsed": false,
    "deletable": true,
    "editable": true
   },
   "outputs": [],
   "source": [
    "#Summarize and print the score achieved by the model on the test using SciUnit's summarize function\n",
    "score.summarize()"
   ]
  }
 ],
 "metadata": {
  "kernelspec": {
   "display_name": "Python 2",
   "language": "python",
   "name": "python2"
  },
  "language_info": {
   "codemirror_mode": {
    "name": "ipython",
    "version": 2
   },
   "file_extension": ".py",
   "mimetype": "text/x-python",
   "name": "python",
   "nbconvert_exporter": "python",
   "pygments_lexer": "ipython2",
   "version": "2.7.6"
  }
 },
 "nbformat": 4,
 "nbformat_minor": 2
}
